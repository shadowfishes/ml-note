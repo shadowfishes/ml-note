{
 "cells": [
  {
   "cell_type": "markdown",
   "metadata": {},
   "source": [
    "Multicollinearity maybe a problem in regression models. Curse of Dimensionality may be big problem in ML models. When we do feature engineering, it maybe involved. One of the assumption is data which is passing in regression model it should not contain Multicollinearity. Some methods could be useful to reduce the multicollinearity.  \n",
    "1. Removing variables that are giving same information twice or more\n",
    "2. using VIF\n",
    "3. getting feature importance using tree_based models.\n",
    "4. for regression models checking 'R^2', correlation matrix, ols(ordinary least square) method."
   ]
  },
  {
   "cell_type": "code",
   "execution_count": 1,
   "metadata": {},
   "outputs": [],
   "source": [
    "# VIF = 1 / (1-R^2), usually this threshold is to be set 5 or 10\n",
    "# In sklearn, the coefficient R^2 is defined as (1 - u/v), where u is the residual\n",
    "# sum of squares ((y_true - y_pred) ** 2).sum() and v is the total\n",
    "# sum of squares ((y_true - y_true.mean()) ** 2).sum().\n",
    "\n",
    "# correlation matrix can only check two features.\n",
    "\n",
    "# we need to do this n times, where n is equal to feature nums.\n",
    "from sklearn.linear_model import LinearRegression\n",
    "\n",
    "def sqr_R_check(data,aim_factor):\n",
    "    tset_data=get_data(data)\n",
    "    tset_data_y=tset_data[aim_factor]\n",
    "    copy_list=factor_list.copy()\n",
    "    copy_list.remove(aim_factor)     \n",
    "    tset_data_x=tset_data[copy_list]\n",
    "    X_train,X_test,Y_train,Y_test = train_test_split(tset_data_x,tset_data_y,train_size=.500)\n",
    "    #建立回归模型\n",
    "    model = LinearRegression()\n",
    "    model.fit(X_train,Y_train)\n",
    "    #R^2检测\n",
    "    score = model.score(X_test,Y_test)\n",
    "    return data,aim_factor,score"
   ]
  }
 ],
 "metadata": {
  "kernelspec": {
   "display_name": "Python 3",
   "language": "python",
   "name": "python3"
  },
  "language_info": {
   "codemirror_mode": {
    "name": "ipython",
    "version": 3
   },
   "file_extension": ".py",
   "mimetype": "text/x-python",
   "name": "python",
   "nbconvert_exporter": "python",
   "pygments_lexer": "ipython3",
   "version": "3.6.8"
  }
 },
 "nbformat": 4,
 "nbformat_minor": 4
}
