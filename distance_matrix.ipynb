{
 "cells": [
  {
   "cell_type": "markdown",
   "metadata": {},
   "source": [
    "# Faster Distance Matrix  \n",
    "Distance matrix between atoms of a single molecule are used in many ML algorithms.This notebook show a faster way to compute distance matrix reference to https://www.kaggle.com/cpmpml/ultra-fast-distance-matrix-computation"
   ]
  },
  {
   "cell_type": "code",
   "execution_count": 52,
   "metadata": {},
   "outputs": [],
   "source": [
    "# tests help notebooks stay managable\n",
    "import doctest\n",
    "import copy\n",
    "import functools\n",
    "\n",
    "# docktesting\n",
    "def autotest(func):\n",
    "    globs = copy.copy(globals())\n",
    "    globs.update({func.__name__: func})\n",
    "    doctest.run_docstring_examples(\n",
    "        func, globs, verbose=True, name=func.__name__)\n",
    "    return func"
   ]
  },
  {
   "cell_type": "code",
   "execution_count": 53,
   "metadata": {},
   "outputs": [],
   "source": [
    "import numpy as np\n",
    "import pandas as pd\n",
    "import seaborn as sns\n",
    "from tqdm import tqdm_notebook\n",
    "import warnings\n",
    "warnings.filterwarnings(\"ignore\")"
   ]
  },
  {
   "cell_type": "code",
   "execution_count": 54,
   "metadata": {},
   "outputs": [
    {
     "name": "stdout",
     "output_type": "stream",
     "text": [
      "Finding tests in distance_matrix\n",
      "Trying:\n",
      "    data = np.asarray( [[1,1,1],[2,2,2],[3,3,3]])\n",
      "Expecting nothing\n",
      "ok\n",
      "Trying:\n",
      "    columns = ['x','y','z']\n",
      "Expecting nothing\n",
      "ok\n",
      "Trying:\n",
      "    data = pd.DataFrame(data=data,columns=columns)\n",
      "Expecting nothing\n",
      "ok\n",
      "Trying:\n",
      "    distance_matrix(data.values)\n",
      "Expecting:\n",
      "    array([[0., 3., 6.],\n",
      "           [3., 0., 3.],\n",
      "           [6., 3., 0.]])\n",
      "ok\n"
     ]
    }
   ],
   "source": [
    "@autotest\n",
    "def distance_matrix(data):\n",
    "    \"\"\"\n",
    "    :param data: data, pd.DataFrame\n",
    "    :return: diantance matrix, np.ndarray\n",
    "    >>> data = np.asarray( [[1,1,1],[2,2,2],[3,3,3]])\n",
    "    >>> columns = ['x','y','z']\n",
    "    >>> data = pd.DataFrame(data=data,columns=columns)\n",
    "    >>> distance_matrix(data.values)\n",
    "    array([[0., 3., 6.],\n",
    "           [3., 0., 3.],\n",
    "           [6., 3., 0.]])\n",
    "    \"\"\"\n",
    "    rows = data.shape[0]\n",
    "    data_tile = np.tile(data.T, (rows,1,1))\n",
    "    dist_mat = np.sqrt((data_tile - data_tile.T)**2).sum(axis=1)\n",
    "    return dist_mat    \n"
   ]
  },
  {
   "cell_type": "code",
   "execution_count": 55,
   "metadata": {},
   "outputs": [],
   "source": [
    "data = np.asarray( [['dsgdb9nsd_000001',\t0,\t'C',\t-0.012698,\t1.085804,   0.008001],\n",
    "                     ['dsgdb9nsd_000001',\t1,\t'H',\t0.002150,\t-0.006031,\t0.001976],\n",
    "                     ['dsgdb9nsd_000001',\t2,\t'H',\t1.011731,\t1.463751,\t0.000277],\n",
    "                     ['dsgdb9nsd_000001',\t3,\t'H',\t-0.540815,\t1.447527,\t-0.876644],\n",
    "                     ['dsgdb9nsd_000001',\t4,\t'H',\t-0.523814,\t1.437933,\t0.906397],\n",
    "                     ['dsgdb9nsd_000002',\t0,\t'N',\t-0.040426,\t1.024108,\t0.062564],\n",
    "                     ['dsgdb9nsd_000002',\t1,\t'H',\t0.017257,\t0.012545,\t-0.027377]])\n",
    "\n",
    "columns = ['molecule_name'\t,'atom_index',\t'atom',\t'x','y','z']\n",
    "data = pd.DataFrame(data=data,columns=columns).apply(pd.to_numeric, errors='ignore')"
   ]
  },
  {
   "cell_type": "code",
   "execution_count": 56,
   "metadata": {},
   "outputs": [
    {
     "data": {
      "text/plain": [
       "array([[0.      , 1.112708, 1.4101  , 1.774485, 1.761641, 0.143987,\n",
       "        1.138592],\n",
       "       [1.112708, 0.      , 2.481062, 2.875143, 2.874349, 1.133303,\n",
       "        0.063036],\n",
       "       [1.4101  , 2.481062, 0.      , 2.445691, 2.467483, 1.554087,\n",
       "        2.473334],\n",
       "       [1.774485, 2.875143, 2.445691, 0.      , 1.809636, 1.863016,\n",
       "        2.842321],\n",
       "       [1.761641, 2.874349, 2.467483, 1.809636, 0.      , 1.741046,\n",
       "        2.900233],\n",
       "       [0.143987, 1.133303, 1.554087, 1.863016, 1.741046, 0.      ,\n",
       "        1.159187],\n",
       "       [1.138592, 0.063036, 2.473334, 2.842321, 2.900233, 1.159187,\n",
       "        0.      ]])"
      ]
     },
     "execution_count": 56,
     "metadata": {},
     "output_type": "execute_result"
    }
   ],
   "source": [
    "# covert DataFrame to np.ndarray is expensive, it cost losts of time\n",
    "distance_matrix(data[['x','y','z']].values)"
   ]
  }
 ],
 "metadata": {
  "kernelspec": {
   "display_name": "Python 3",
   "language": "python",
   "name": "python3"
  },
  "language_info": {
   "codemirror_mode": {
    "name": "ipython",
    "version": 3
   },
   "file_extension": ".py",
   "mimetype": "text/x-python",
   "name": "python",
   "nbconvert_exporter": "python",
   "pygments_lexer": "ipython3",
   "version": "3.6.8"
  }
 },
 "nbformat": 4,
 "nbformat_minor": 4
}
