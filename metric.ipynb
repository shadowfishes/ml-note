{
 "cells": [
  {
   "cell_type": "markdown",
   "metadata": {},
   "source": [
    "# Metirc For ML  \n",
    "1、fast-auc-roc (**Not equal to sklearn**)  \n",
    "\n",
    "Algorithm Definition： \n",
    "* pos is the set of examples with target 1.  These are the positive examples  \n",
    "* neg is the set of examples with target 0. These are the negative examples  \n",
    "* p(i) is the prediction for example i.  p(i) is a number between 0 and 1.  \n",
    "* A pair of examples (i, j) is labelled the right way if i is a positive example, j is a negative example, and the prediction for i is higher than the prediction for j.   \n",
    "* | s | is the number of elements in set s.   \n",
    "\n",
    "AUC-ROC = | {(i,j), i in pos, j in neg, p(i) > p(j)} | / (| pos | x | neg |)  \n",
    "\n",
    "We can consider that xaxis use FP count and yaxis use TP count, then divide by (| pos | x | neg |) at last.  \n",
    "Then we use len(y_ture) values of threshold to draw the roc-auc curve.(This is little difference to sklearn, more accuracy ?)  \n",
    "Thie algorithm starts with threshold which set to be zero, then increse to 1.(Because we starts with (1,1)  in original roc curves)  "
   ]
  },
  {
   "cell_type": "code",
   "execution_count": 3,
   "metadata": {},
   "outputs": [
    {
     "name": "stdout",
     "output_type": "stream",
     "text": [
      "Looking in indexes: https://pypi.tuna.tsinghua.edu.cn/simple/\n",
      "Requirement already satisfied: numba in d:\\venv\\jupyter\\lib\\site-packages (0.45.1)\n",
      "Requirement already satisfied: llvmlite>=0.29.0dev0 in d:\\venv\\jupyter\\lib\\site-packages (from numba) (0.29.0)\n",
      "Requirement already satisfied: numpy in d:\\venv\\jupyter\\lib\\site-packages (from numba) (1.17.0)\n"
     ]
    }
   ],
   "source": [
    "!pip install numba"
   ]
  },
  {
   "cell_type": "code",
   "execution_count": 8,
   "metadata": {},
   "outputs": [],
   "source": [
    "# coding\n",
    "import numpy as np \n",
    "from numba import jit\n",
    "\n",
    "@jit\n",
    "def fast_auc(y_true, y_prob):\n",
    "    y_true = np.asarray(y_true)\n",
    "    y_true = y_true[np.argsort(y_prob)]\n",
    "    nfalse = 0\n",
    "    auc = 0\n",
    "    n = len(y_true)\n",
    "    for i in range(n):\n",
    "        y_i = y_true[i]\n",
    "        nfalse += (1 - y_i)\n",
    "        auc += y_i * nfalse\n",
    "    auc /= (nfalse * (n - nfalse))\n",
    "    return auc"
   ]
  },
  {
   "cell_type": "code",
   "execution_count": 10,
   "metadata": {},
   "outputs": [
    {
     "name": "stdout",
     "output_type": "stream",
     "text": [
      "0.925\n",
      "0.9\n"
     ]
    }
   ],
   "source": [
    "# test\n",
    "from sklearn.metrics import roc_auc_score\n",
    "\n",
    "y_true = np.asarray([1,1,1,1,1,0,0,0,0])\n",
    "y_pred = np.asarray([0.9,0.8,0.85,0.4,0.7,0.3,0.4,0.2,0.6])\n",
    "\n",
    "print(roc_auc_score(y_true=y_true, y_score=y_pred))\n",
    "print(fast_auc(y_true,y_pred))"
   ]
  },
  {
   "cell_type": "code",
   "execution_count": null,
   "metadata": {},
   "outputs": [],
   "source": []
  }
 ],
 "metadata": {
  "kernelspec": {
   "display_name": "Python 3",
   "language": "python",
   "name": "python3"
  },
  "language_info": {
   "codemirror_mode": {
    "name": "ipython",
    "version": 3
   },
   "file_extension": ".py",
   "mimetype": "text/x-python",
   "name": "python",
   "nbconvert_exporter": "python",
   "pygments_lexer": "ipython3",
   "version": "3.6.8"
  }
 },
 "nbformat": 4,
 "nbformat_minor": 4
}
